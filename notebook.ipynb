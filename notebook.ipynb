{
 "cells": [
  {
   "cell_type": "markdown",
   "id": "f2216dd1-4fc8-42eb-9094-23c8f96bbba1",
   "metadata": {},
   "source": [
    "# Use PyTorch to Predict Hotel Cancellations\n",
    "\n",
    "- [View Solution Notebook](./solutions.html)\n",
    "- [View Project Page](https://www.codecademy.com/)"
   ]
  },
  {
   "cell_type": "markdown",
   "id": "b298ad9f-91f0-4ff2-b666-45aa85b477d4",
   "metadata": {},
   "source": [
    "**Setup - Import libraries**"
   ]
  },
  {
   "cell_type": "code",
   "execution_count": 49,
   "id": "9df68894-cfd7-450e-a72d-bd1f99e3e96d",
   "metadata": {},
   "outputs": [],
   "source": [
    "import pandas as pd\n",
    "import numpy as np"
   ]
  },
  {
   "cell_type": "markdown",
   "id": "0041b071-2761-49db-a716-66ffaddf5cac",
   "metadata": {},
   "source": [
    "## Task Group 1 - Import and Inspect\n",
    "\n",
    "The file `'datasets/resort_hotel_bookings.csv'` contains a subset of a [real-world dataset](https://www.kaggle.com/datasets/jessemostipak/hotel-booking-demand) containing reservation and cancellation data for a resort hotel. \n",
    "\n",
    "Your goal in this project is build and train a neural network to predict if a customer will cancel their hotel booking reservation based on data including the booking dates, average daily cost, number of adults/children/babies, duration of stay, and so forth."
   ]
  },
  {
   "cell_type": "markdown",
   "id": "2a125c1e-9b3e-484e-90e9-89d95ebddb08",
   "metadata": {},
   "source": [
    "### Task 1\n",
    "\n",
    "Begin by importing the CSV file to a pandas DataFrame named `hotels`.\n",
    "\n",
    "Preview the first five rows using the `.head()` method."
   ]
  },
  {
   "cell_type": "code",
   "execution_count": 171,
   "id": "9a70147e-a769-4e34-bb58-6ed3ad8f5e36",
   "metadata": {},
   "outputs": [],
   "source": [
    "df = pd.read_csv(\"hotel_bookings.csv\")"
   ]
  },
  {
   "cell_type": "markdown",
   "id": "f7425cc3-dd20-4dab-a6a9-539b994dd9b9",
   "metadata": {},
   "source": [
    "<details><summary style=\"display:list-item; font-size:16px; color:blue;\">Here's a quick summary of the columns</summary>\n",
    "\n",
    "- **is_canceled**: Whether the booking was canceled (1) or kept (0)\n",
    "- **lead_time**: Number of days between booking date and arrival date\n",
    "- **arrival_date_year**: Year of arrival date\n",
    "- **arrival_date_month**: Month of arrival date\n",
    "- **arrival_date_week_number**: Week number of arrival date\n",
    "- **arrival_date_day_of_month**: Day of the month of arrival date\n",
    "- **stays_in_weekend_nights**: Number of weekend nights booked (Sat-Sun)\n",
    "- **stay_in_week_nights**: Number of weekday nights booked (Mon-Fri)\n",
    "- **adults**: Number of adults\n",
    "- **children**: Number of children\n",
    "- **babies**: Number of babies\n",
    "- **meal**: Type of meal booked (Undefined/SC, BB, HB, or FB)\n",
    "- **country**: Country of origin of the booker\n",
    "- **market_segment**: Market segment (TA - travel agent, TO - tour operators)\n",
    "- **distribution_channel**: Booking distribution channel (TA - travel agent, TO - tour operators)\n",
    "- **is_repeated_guest**: Is this a repeated guest (1) or not (0)\n",
    "- **previous_cancellations**: The number of previous bookings canceled by the customer\n",
    "- **previous_bookings_not_canceled**: The number of previous bookings not canceled by the customer\n",
    "- **reserved_room_type**: Room type reserved\n",
    "- **assigned_room_type**: Type of assigned room booked\n",
    "- **booking_changes**: Number of booking changes or modifications\n",
    "- **deposit_type**: Type of deposit to guarantee booking (No Deposit, Non Refund, or Refundable)\n",
    "- **agent**: ID of the travel agency that made the booking\n",
    "- **company**: ID of the company that made the booking\n",
    "- **days_in_waiting_list**: Number of days booking was waitlisted before confirmation\n",
    "- **customer_type**: The customer type of booking (Contract, Group, Transient, or Transient-party)\n",
    "- **adr**: The average daily rate (cost) of the booking\n",
    "- **required_car_parking_spaces**: Number of parking spaces requested by the customer\n",
    "- **total_of_special_requests**: Number of special requests by the customer\n",
    "- **reservation_status**: The last reservation status (Canceled, Check-Out, No-Show)\n",
    "- **reservation_status_date**: The date of the last reservation status"
   ]
  },
  {
   "cell_type": "markdown",
   "id": "87842e14-50f6-47ec-984a-f30854c859ea",
   "metadata": {},
   "source": [
    "### Task 2\n",
    "\n",
    "Let's explore the data types and whether any data is missing.\n",
    "\n",
    "Use the `.info()` method on the `hotels` DataFrame to inspect the data."
   ]
  },
  {
   "cell_type": "code",
   "execution_count": 172,
   "id": "32ca9cf6-6b13-4e1f-af01-7673cb7305e0",
   "metadata": {},
   "outputs": [
    {
     "name": "stdout",
     "output_type": "stream",
     "text": [
      "<class 'pandas.core.frame.DataFrame'>\n",
      "RangeIndex: 119390 entries, 0 to 119389\n",
      "Data columns (total 32 columns):\n",
      " #   Column                          Non-Null Count   Dtype  \n",
      "---  ------                          --------------   -----  \n",
      " 0   hotel                           119390 non-null  object \n",
      " 1   is_canceled                     119390 non-null  int64  \n",
      " 2   lead_time                       119390 non-null  int64  \n",
      " 3   arrival_date_year               119390 non-null  int64  \n",
      " 4   arrival_date_month              119390 non-null  object \n",
      " 5   arrival_date_week_number        119390 non-null  int64  \n",
      " 6   arrival_date_day_of_month       119390 non-null  int64  \n",
      " 7   stays_in_weekend_nights         119390 non-null  int64  \n",
      " 8   stays_in_week_nights            119390 non-null  int64  \n",
      " 9   adults                          119390 non-null  int64  \n",
      " 10  children                        119386 non-null  float64\n",
      " 11  babies                          119390 non-null  int64  \n",
      " 12  meal                            119390 non-null  object \n",
      " 13  country                         118902 non-null  object \n",
      " 14  market_segment                  119390 non-null  object \n",
      " 15  distribution_channel            119390 non-null  object \n",
      " 16  is_repeated_guest               119390 non-null  int64  \n",
      " 17  previous_cancellations          119390 non-null  int64  \n",
      " 18  previous_bookings_not_canceled  119390 non-null  int64  \n",
      " 19  reserved_room_type              119390 non-null  object \n",
      " 20  assigned_room_type              119390 non-null  object \n",
      " 21  booking_changes                 119390 non-null  int64  \n",
      " 22  deposit_type                    119390 non-null  object \n",
      " 23  agent                           103050 non-null  float64\n",
      " 24  company                         6797 non-null    float64\n",
      " 25  days_in_waiting_list            119390 non-null  int64  \n",
      " 26  customer_type                   119390 non-null  object \n",
      " 27  adr                             119390 non-null  float64\n",
      " 28  required_car_parking_spaces     119390 non-null  int64  \n",
      " 29  total_of_special_requests       119390 non-null  int64  \n",
      " 30  reservation_status              119390 non-null  object \n",
      " 31  reservation_status_date         119390 non-null  object \n",
      "dtypes: float64(4), int64(16), object(12)\n",
      "memory usage: 29.1+ MB\n"
     ]
    }
   ],
   "source": [
    "df.info()"
   ]
  },
  {
   "cell_type": "markdown",
   "id": "5d1e2275-58f3-4687-8aad-69771ca90a05",
   "metadata": {},
   "source": [
    "<details><summary style=\"display:list-item; font-size:16px; color:blue;\">What do we notice about the dataset under inspection?</summary>\n",
    "\n",
    "There are 31 columns and 40,060 total observations in our dataset. The majority of columns do not have missing values.\n",
    "\n",
    "However, we do notice that: \n",
    "- the `agent` and `company` columns seem to have missing values that need to be addressed\n",
    "- the `country` column has a couple of missing values as well\n",
    "\n",
    "There are a variety of data types represented. To work with a neural network, we'll have to address any non-numeric columns in our data preparation."
   ]
  },
  {
   "cell_type": "markdown",
   "id": "d4094487-42e0-4ab3-9826-abc746d3a3f1",
   "metadata": {},
   "source": [
    "### Task 3\n",
    "\n",
    "Let's now explore the cancellation column we want to predict.\n",
    "\n",
    "Use the `.value_counts()` method on the `is_canceled` column to count the number **and** the percentage of overall cancellations. "
   ]
  },
  {
   "cell_type": "code",
   "execution_count": 173,
   "id": "aec2e47c-24d1-438f-a6fe-dcdc28700cb3",
   "metadata": {},
   "outputs": [
    {
     "name": "stdout",
     "output_type": "stream",
     "text": [
      "is_canceled\n",
      "0    75166\n",
      "1    44224\n",
      "Name: count, dtype: int64\n",
      "is_canceled\n",
      "0    0.629584\n",
      "1    0.370416\n",
      "Name: proportion, dtype: float64\n"
     ]
    }
   ],
   "source": [
    "# Number of cancellations\n",
    "print(df['is_canceled'].value_counts(0))\n",
    "\n",
    "# Percentage of cancellations\n",
    "print(df['is_canceled'].value_counts(1))"
   ]
  },
  {
   "cell_type": "markdown",
   "id": "20301d48-979f-4c8b-b54d-36986aaed720",
   "metadata": {},
   "source": [
    "<details><summary style=\"display:list-item; font-size:16px; color:blue;\">What do we notice about the number of cancellations?</summary>\n",
    "\n",
    "The number of cancellations is much lower than the number of non-cancellations (27.8% canceled vs 72.2% did not cancel). \n",
    "\n",
    "We'll need to take this imbalance into account when we evaluate our model. For example, a naive model could simply predict every booking will **not be canceled** and achieve a decent accuracy of 72.2%."
   ]
  },
  {
   "cell_type": "markdown",
   "id": "439532b9-8f05-49b0-95c8-8d95872722a9",
   "metadata": {},
   "source": [
    "### Task 4\n",
    "\n",
    "The `reservation_status` column tells us if the booking was canceled while also telling us if the customer was a no-show.\n",
    "\n",
    "We need to be sure to exclude this column from the training set, otherwise this information will be _leaked_ to our model resulting in inaccurate performance. \n",
    "\n",
    "First, let's take a quick look at the values in this column.\n",
    "\n",
    "Use the `.value_counts()` method on the `reservation_status` column to count the number **and** the percentage of overall cancellations. "
   ]
  },
  {
   "cell_type": "code",
   "execution_count": 174,
   "id": "42306a5e-144f-49f7-acd8-a505bf137522",
   "metadata": {},
   "outputs": [
    {
     "name": "stdout",
     "output_type": "stream",
     "text": [
      "reservation_status\n",
      "Check-Out    75166\n",
      "Canceled     43017\n",
      "No-Show       1207\n",
      "Name: count, dtype: int64\n",
      "reservation_status\n",
      "Check-Out    0.629584\n",
      "Canceled     0.360307\n",
      "No-Show      0.010110\n",
      "Name: proportion, dtype: float64\n"
     ]
    }
   ],
   "source": [
    "# Number of cancellations\n",
    "print(df['reservation_status'].value_counts(0))\n",
    "\n",
    "# Percentage of cancellations\n",
    "print(df['reservation_status'].value_counts(1))"
   ]
  },
  {
   "cell_type": "markdown",
   "id": "7d835c66-464d-4210-b7cc-7dae55b3bda1",
   "metadata": {},
   "source": [
    "<details><summary style=\"display:list-item; font-size:16px; color:blue;\">What do we notice about the reservation_status column?</summary>\n",
    "\n",
    "The number of no-shows is extremely small and consists of only 291 (or 0.7%) of observations in the dataset.\n",
    "\n",
    "Later on, we'll look at creating a multiclass model to predict no-show in addition to canceled."
   ]
  },
  {
   "cell_type": "markdown",
   "id": "69cad566-ae8b-4879-9f78-4023c662626c",
   "metadata": {},
   "source": [
    "### Task 5\n",
    "\n",
    "Before diving into building a model, let's continue to explore the dataset. It's important to understand how different columns interact with cancellations to guide our model structure! \n",
    "\n",
    "For example, cancellations might be higher in the summer months (June - September) and lower in the winter months (November - January).\n",
    "\n",
    "Use the `.groupby()` method to group the data by the `arrival_date_month` column and apply the `.mean()` aggregation function on the `is_canceled` column. This will return the percent of reservations cancelled in each month.\n",
    "\n",
    "Then, use the `.sort_values()` method to sort the percentages from lowest to highest."
   ]
  },
  {
   "cell_type": "code",
   "execution_count": 175,
   "id": "7017752e-2799-4aa7-816a-dd7574af0c49",
   "metadata": {},
   "outputs": [
    {
     "data": {
      "text/plain": [
       "arrival_date_month\n",
       "January      0.304773\n",
       "November     0.312334\n",
       "March        0.321523\n",
       "February     0.334160\n",
       "December     0.349705\n",
       "July         0.374536\n",
       "August       0.377531\n",
       "October      0.380466\n",
       "September    0.391702\n",
       "May          0.396658\n",
       "April        0.407972\n",
       "June         0.414572\n",
       "Name: is_canceled, dtype: float64"
      ]
     },
     "execution_count": 175,
     "metadata": {},
     "output_type": "execute_result"
    }
   ],
   "source": [
    "cancellations_by_month = df.groupby('arrival_date_month')['is_canceled'].mean()\n",
    "cancellations_by_month.sort_values()"
   ]
  },
  {
   "cell_type": "code",
   "execution_count": 176,
   "id": "4e0e9490",
   "metadata": {},
   "outputs": [
    {
     "data": {
      "text/plain": [
       "array(['Resort Hotel', 'City Hotel'], dtype=object)"
      ]
     },
     "execution_count": 176,
     "metadata": {},
     "output_type": "execute_result"
    }
   ],
   "source": [
    "df['hotel'].unique()"
   ]
  },
  {
   "cell_type": "markdown",
   "id": "9b0b30f9-951f-4867-8db1-829301ffdf67",
   "metadata": {},
   "source": [
    "<details><summary style=\"display:list-item; font-size:16px; color:blue;\">What do we notice about the percentage of cancellations by month?</summary>\n",
    "\n",
    "It looks like our intuition was correct! Winter and spring have the lowest cancellation percentages, while summer and fall have the highest. This information can be very useful for our model!"
   ]
  },
  {
   "cell_type": "markdown",
   "id": "c3aea04a-4f56-43bf-be51-48d042855eb0",
   "metadata": {},
   "source": [
    "It might be useful to do more exploratory data analysis to gain additional insights about hotel cancellations. For example, additional analysis may help you select better features to train the model on and exclude features that might seem irrelevant. But for now, let's move on to cleaning and preparing the data."
   ]
  },
  {
   "cell_type": "markdown",
   "id": "4a5e5614-bf65-4f8b-850b-2ca02a6830f7",
   "metadata": {},
   "source": [
    "## Task Group 2 - Data Cleaning and Preparation\n",
    "\n",
    "In this section, we'll encode categorical data for use in our neural networks."
   ]
  },
  {
   "cell_type": "markdown",
   "id": "b0e7de66-f973-4580-be8d-ce652ae2aeae",
   "metadata": {},
   "source": [
    "### Task 6\n",
    "\n",
    "To get a sense of the categorical data in the dataset, let's start by previewing the first five rows of all columns with `object` datatype.\n",
    "\n",
    "Create a list named `object_columns` containing only the names of the object columns (except for the reservation status columns). Select those columns from `hotels` and preview the first `5` rows."
   ]
  },
  {
   "cell_type": "code",
   "execution_count": 177,
   "id": "f46a21ff-6eda-4575-8119-903e455469c4",
   "metadata": {},
   "outputs": [
    {
     "data": {
      "text/html": [
       "<div>\n",
       "<style scoped>\n",
       "    .dataframe tbody tr th:only-of-type {\n",
       "        vertical-align: middle;\n",
       "    }\n",
       "\n",
       "    .dataframe tbody tr th {\n",
       "        vertical-align: top;\n",
       "    }\n",
       "\n",
       "    .dataframe thead th {\n",
       "        text-align: right;\n",
       "    }\n",
       "</style>\n",
       "<table border=\"1\" class=\"dataframe\">\n",
       "  <thead>\n",
       "    <tr style=\"text-align: right;\">\n",
       "      <th></th>\n",
       "      <th>hotel</th>\n",
       "      <th>arrival_date_month</th>\n",
       "      <th>meal</th>\n",
       "      <th>country</th>\n",
       "      <th>market_segment</th>\n",
       "      <th>distribution_channel</th>\n",
       "      <th>reserved_room_type</th>\n",
       "      <th>assigned_room_type</th>\n",
       "      <th>deposit_type</th>\n",
       "      <th>customer_type</th>\n",
       "    </tr>\n",
       "  </thead>\n",
       "  <tbody>\n",
       "    <tr>\n",
       "      <th>0</th>\n",
       "      <td>Resort Hotel</td>\n",
       "      <td>July</td>\n",
       "      <td>BB</td>\n",
       "      <td>PRT</td>\n",
       "      <td>Direct</td>\n",
       "      <td>Direct</td>\n",
       "      <td>C</td>\n",
       "      <td>C</td>\n",
       "      <td>No Deposit</td>\n",
       "      <td>Transient</td>\n",
       "    </tr>\n",
       "    <tr>\n",
       "      <th>1</th>\n",
       "      <td>Resort Hotel</td>\n",
       "      <td>July</td>\n",
       "      <td>BB</td>\n",
       "      <td>PRT</td>\n",
       "      <td>Direct</td>\n",
       "      <td>Direct</td>\n",
       "      <td>C</td>\n",
       "      <td>C</td>\n",
       "      <td>No Deposit</td>\n",
       "      <td>Transient</td>\n",
       "    </tr>\n",
       "    <tr>\n",
       "      <th>2</th>\n",
       "      <td>Resort Hotel</td>\n",
       "      <td>July</td>\n",
       "      <td>BB</td>\n",
       "      <td>GBR</td>\n",
       "      <td>Direct</td>\n",
       "      <td>Direct</td>\n",
       "      <td>A</td>\n",
       "      <td>C</td>\n",
       "      <td>No Deposit</td>\n",
       "      <td>Transient</td>\n",
       "    </tr>\n",
       "    <tr>\n",
       "      <th>3</th>\n",
       "      <td>Resort Hotel</td>\n",
       "      <td>July</td>\n",
       "      <td>BB</td>\n",
       "      <td>GBR</td>\n",
       "      <td>Corporate</td>\n",
       "      <td>Corporate</td>\n",
       "      <td>A</td>\n",
       "      <td>A</td>\n",
       "      <td>No Deposit</td>\n",
       "      <td>Transient</td>\n",
       "    </tr>\n",
       "    <tr>\n",
       "      <th>4</th>\n",
       "      <td>Resort Hotel</td>\n",
       "      <td>July</td>\n",
       "      <td>BB</td>\n",
       "      <td>GBR</td>\n",
       "      <td>Online TA</td>\n",
       "      <td>TA/TO</td>\n",
       "      <td>A</td>\n",
       "      <td>A</td>\n",
       "      <td>No Deposit</td>\n",
       "      <td>Transient</td>\n",
       "    </tr>\n",
       "  </tbody>\n",
       "</table>\n",
       "</div>"
      ],
      "text/plain": [
       "          hotel arrival_date_month meal country market_segment  \\\n",
       "0  Resort Hotel               July   BB     PRT         Direct   \n",
       "1  Resort Hotel               July   BB     PRT         Direct   \n",
       "2  Resort Hotel               July   BB     GBR         Direct   \n",
       "3  Resort Hotel               July   BB     GBR      Corporate   \n",
       "4  Resort Hotel               July   BB     GBR      Online TA   \n",
       "\n",
       "  distribution_channel reserved_room_type assigned_room_type deposit_type  \\\n",
       "0               Direct                  C                  C   No Deposit   \n",
       "1               Direct                  C                  C   No Deposit   \n",
       "2               Direct                  A                  C   No Deposit   \n",
       "3            Corporate                  A                  A   No Deposit   \n",
       "4                TA/TO                  A                  A   No Deposit   \n",
       "\n",
       "  customer_type  \n",
       "0     Transient  \n",
       "1     Transient  \n",
       "2     Transient  \n",
       "3     Transient  \n",
       "4     Transient  "
      ]
     },
     "execution_count": 177,
     "metadata": {},
     "output_type": "execute_result"
    }
   ],
   "source": [
    "object_columns = ['hotel','arrival_date_month', 'meal', 'country', 'market_segment', 'distribution_channel', 'reserved_room_type', 'assigned_room_type', 'deposit_type', 'customer_type']\n",
    "df[object_columns].head()"
   ]
  },
  {
   "cell_type": "markdown",
   "id": "ba362e67-edfb-4b2a-acfe-3c2be4ebc711",
   "metadata": {},
   "source": [
    "<details><summary style=\"display:list-item; font-size:16px; color:blue;\">Hint: Preview the first five rows subset by the object columns</summary>\n",
    "\n",
    "Here's how we can subset the DataFrame by the object columns and preview the first five rows:\n",
    "\n",
    "```py\n",
    "object_columns = ['arrival_date_month', 'meal', 'country', 'market_segment', 'distribution_channel', 'reserved_room_type', 'assigned_room_type', 'deposit_type', 'customer_type']\n",
    "hotels[object_columns].head()\n",
    "```\n",
    "\n",
    "Additionally, it might be helpful to explore the categorical data in each object column using the `.value_counts()` method.\n",
    "\n",
    "</details>"
   ]
  },
  {
   "cell_type": "code",
   "execution_count": 178,
   "id": "92d584e9",
   "metadata": {},
   "outputs": [
    {
     "data": {
      "text/plain": [
       "hotel                                  0\n",
       "is_canceled                            0\n",
       "lead_time                              0\n",
       "arrival_date_year                      0\n",
       "arrival_date_month                     0\n",
       "arrival_date_week_number               0\n",
       "arrival_date_day_of_month              0\n",
       "stays_in_weekend_nights                0\n",
       "stays_in_week_nights                   0\n",
       "adults                                 0\n",
       "children                               4\n",
       "babies                                 0\n",
       "meal                                   0\n",
       "country                              488\n",
       "market_segment                         0\n",
       "distribution_channel                   0\n",
       "is_repeated_guest                      0\n",
       "previous_cancellations                 0\n",
       "previous_bookings_not_canceled         0\n",
       "reserved_room_type                     0\n",
       "assigned_room_type                     0\n",
       "booking_changes                        0\n",
       "deposit_type                           0\n",
       "agent                              16340\n",
       "company                           112593\n",
       "days_in_waiting_list                   0\n",
       "customer_type                          0\n",
       "adr                                    0\n",
       "required_car_parking_spaces            0\n",
       "total_of_special_requests              0\n",
       "reservation_status                     0\n",
       "reservation_status_date                0\n",
       "dtype: int64"
      ]
     },
     "execution_count": 178,
     "metadata": {},
     "output_type": "execute_result"
    }
   ],
   "source": [
    "df.isna().sum()"
   ]
  },
  {
   "cell_type": "markdown",
   "id": "f6642631-3b52-4969-ba5a-da0bc952d070",
   "metadata": {},
   "source": [
    "### Task 7\n",
    "\n",
    "Typically, we don't want to use every column in training. For example, we may want to drop columns with many missing values or columns that are irrelevant to our prediction task.\n",
    "\n",
    "Drop any columns you don't want to use to train a cancellation model (do not remove the target label column). Feel free to open our Hint to review the columns we chose to drop in our solution.\n",
    "\n",
    "Note: We don't want to drop the `reservation_status` column from the dataset quite yet because we'll be using this column to train our multiclass neural network."
   ]
  },
  {
   "cell_type": "code",
   "execution_count": 179,
   "id": "9f1e0daa-91ef-43ae-8b37-a3e545533729",
   "metadata": {},
   "outputs": [],
   "source": [
    "drop_cols = ['country','agent','company','reservation_status_date']\n",
    "df = df.drop(labels=drop_cols, axis=1)"
   ]
  },
  {
   "cell_type": "code",
   "execution_count": 180,
   "id": "cbd85f08",
   "metadata": {},
   "outputs": [
    {
     "name": "stderr",
     "output_type": "stream",
     "text": [
      "C:\\Users\\anush\\AppData\\Local\\Temp\\ipykernel_2420\\3540574366.py:1: FutureWarning: A value is trying to be set on a copy of a DataFrame or Series through chained assignment using an inplace method.\n",
      "The behavior will change in pandas 3.0. This inplace method will never work because the intermediate object on which we are setting values always behaves as a copy.\n",
      "\n",
      "For example, when doing 'df[col].method(value, inplace=True)', try using 'df.method({col: value}, inplace=True)' or df[col] = df[col].method(value) instead, to perform the operation inplace on the original object.\n",
      "\n",
      "\n",
      "  df['children'].fillna(df['children'].median(), inplace = True)\n"
     ]
    }
   ],
   "source": [
    "df['children'].fillna(df['children'].median(), inplace = True)"
   ]
  },
  {
   "cell_type": "markdown",
   "id": "e53b42e7-17d6-4123-8048-7b7922acc582",
   "metadata": {},
   "source": [
    "<details><summary style=\"display:list-item; font-size:16px; color:blue;\">Hint: Drop columns in the dataset not used for training.</summary>\n",
    "\n",
    "Here's a list of potential features to drop. Feel free to experiment on your own by dropping or keeping columns you might believe may contribute to training.\n",
    "\n",
    "```py\n",
    "drop_columns = ['country', 'agent', 'company', 'reservation_status_date',\n",
    "                'arrival_date_week_number', 'arrival_date_day_of_month', 'arrival_date_year']\n",
    "\n",
    "hotels = hotels.drop(labels=drop_columns, axis=1)\n",
    "```\n",
    "\n",
    "Here's why we chose these columns:\n",
    "\n",
    "- `country` - there are many countries that only appear a handful of times in the dataset which may make our model less generalizable and even discriminate against customers based on their country\n",
    "- `agent` - similar to `country`, there are many agents that only appear a handful of times which may make our model less generalizable (and there are many missing values!)\n",
    "- `company` - similar to `agent`, there are many companies that only appear a handful of times which may make our model less generalizable (and there are many missing values!)\n",
    "- `reservation_status_date` - tells us the date of the latest status change of the reservation which shouldn't be helpful and if anything may leak data\n",
    "- `arrival_date_week_number` - tells us the week of the year which may be too specific and prone to overfitting\n",
    "- `arrival_date_day_of_month` - tells us the day of the month which may be too specific and prone to overfitting\n",
    "- `arrival_date_year` - tells us the year of the booking which may not be helpful to predict future years\n",
    "\n",
    "</details>"
   ]
  },
  {
   "cell_type": "markdown",
   "id": "5b534b1e-fb7e-44f0-abae-fc2bd3c12fba",
   "metadata": {},
   "source": [
    "### Task 8\n",
    "\n",
    "Next, let's encode the `meal` column which tells us which type of meal(s) the customer booked: \n",
    "\n",
    "- `Undefined` and `SC` correspond to no meal packages\n",
    "- `BB` corresponds to breakfast only\n",
    "- `HB` (half board) corresponds to breakfast + lunch or dinner\n",
    "- `FB` (full board) corresponds to breakfast, lunch, and dinner.\n",
    "\n",
    "Label encode the `meal` column with a meaningful order (# of meals booked) using the following scheme:\n",
    "\n",
    "- `Undefined` and `SC` to `0`\n",
    "- `BB` to `1`\n",
    "- `HB` to `2`\n",
    "- `FB` to `3` "
   ]
  },
  {
   "cell_type": "code",
   "execution_count": 181,
   "id": "a35b3ec1",
   "metadata": {},
   "outputs": [
    {
     "data": {
      "text/plain": [
       "array(['BB', 'FB', 'HB', 'SC', 'Undefined'], dtype=object)"
      ]
     },
     "execution_count": 181,
     "metadata": {},
     "output_type": "execute_result"
    }
   ],
   "source": [
    "df['meal'].unique()"
   ]
  },
  {
   "cell_type": "code",
   "execution_count": 182,
   "id": "9ece4bef-9603-43dc-ade9-f09be6ecf44d",
   "metadata": {},
   "outputs": [],
   "source": [
    "df['meal']=df['meal'].map({'Undefined':0, 'SC':0, 'BB':1, 'HB':2, 'FB':3})"
   ]
  },
  {
   "cell_type": "markdown",
   "id": "fb822fb5-a608-45d7-a916-e18da55c7040",
   "metadata": {},
   "source": [
    "### Task 9\n",
    "\n",
    "Let's prepare the rest of the categorical columns using one-hot encoding. \n",
    "\n",
    "Create a list named `one_hot_columns` containing the list of categorical column names (all the remaining categorical columns) to be one-hot encoded using the `pd.get_dummies()` method.\n",
    "\n",
    "Preview the cleaned `hotels` DataFrame using the `.head()` method."
   ]
  },
  {
   "cell_type": "code",
   "execution_count": 183,
   "id": "1868c916-5d34-4906-b530-909ba64da1c6",
   "metadata": {},
   "outputs": [],
   "source": [
    "cat_col = ['hotel','arrival_date_month', 'meal', 'market_segment', 'distribution_channel', 'reserved_room_type', 'assigned_room_type', 'deposit_type', 'customer_type']\n",
    "df=pd.get_dummies(df, columns=cat_col, dtype=int)"
   ]
  },
  {
   "cell_type": "markdown",
   "id": "70f02889-5689-4693-84b1-c8eddeb46a71",
   "metadata": {},
   "source": [
    "Perfect! It looks like we've handled all of the categorical variables and prepared the DataFrame for training.\n",
    "\n",
    "Note that the cleaned DataFrame now has 67 columns due to the additional columns created using one-hot encoding."
   ]
  },
  {
   "cell_type": "markdown",
   "id": "44e9ce60-59ca-4170-9182-1bec8451bab9",
   "metadata": {},
   "source": [
    "## Task Group 3 - Create Training and Testing Sets\n",
    "\n",
    "Next, let's convert our dataset into PyTorch tensors and split them into training and testing sets."
   ]
  },
  {
   "cell_type": "markdown",
   "id": "6033851d-df90-4c0b-ab04-40933f77129d",
   "metadata": {},
   "source": [
    "### Task 10\n",
    "\n",
    "Let's import the necessary PyTorch libraries and modules. "
   ]
  },
  {
   "cell_type": "code",
   "execution_count": 184,
   "id": "b9789d74-14b4-42c0-a1e7-d9df7ba5c235",
   "metadata": {},
   "outputs": [],
   "source": [
    "import torch \n",
    "import torch.nn as nn \n",
    "from torch import optim as optim\n"
   ]
  },
  {
   "cell_type": "markdown",
   "id": "7312231b-c500-4022-b172-e4e67662ce5d",
   "metadata": {},
   "source": [
    "### Task 11\n",
    "\n",
    "We need to start by separating our training features from the target labels.\n",
    "\n",
    "Create a list named `train_features` that contains all of the feature names (column names excluding the target variables `is_canceled` and `reservation_status`)."
   ]
  },
  {
   "cell_type": "code",
   "execution_count": 185,
   "id": "f568ef4b-8287-4fbb-ad5a-16575da41df1",
   "metadata": {},
   "outputs": [],
   "source": [
    "train_features = df.drop(labels=['is_canceled','reservation_status'], axis =1)\n"
   ]
  },
  {
   "cell_type": "code",
   "execution_count": null,
   "id": "d9bc07d9",
   "metadata": {},
   "outputs": [],
   "source": []
  },
  {
   "cell_type": "code",
   "execution_count": 186,
   "id": "03a3d78e",
   "metadata": {},
   "outputs": [
    {
     "name": "stdout",
     "output_type": "stream",
     "text": [
      "<class 'pandas.core.frame.DataFrame'>\n",
      "RangeIndex: 119390 entries, 0 to 119389\n",
      "Data columns (total 77 columns):\n",
      " #   Column                          Non-Null Count   Dtype  \n",
      "---  ------                          --------------   -----  \n",
      " 0   lead_time                       119390 non-null  int64  \n",
      " 1   arrival_date_year               119390 non-null  int64  \n",
      " 2   arrival_date_week_number        119390 non-null  int64  \n",
      " 3   arrival_date_day_of_month       119390 non-null  int64  \n",
      " 4   stays_in_weekend_nights         119390 non-null  int64  \n",
      " 5   stays_in_week_nights            119390 non-null  int64  \n",
      " 6   adults                          119390 non-null  int64  \n",
      " 7   children                        119390 non-null  float64\n",
      " 8   babies                          119390 non-null  int64  \n",
      " 9   is_repeated_guest               119390 non-null  int64  \n",
      " 10  previous_cancellations          119390 non-null  int64  \n",
      " 11  previous_bookings_not_canceled  119390 non-null  int64  \n",
      " 12  booking_changes                 119390 non-null  int64  \n",
      " 13  days_in_waiting_list            119390 non-null  int64  \n",
      " 14  adr                             119390 non-null  float64\n",
      " 15  required_car_parking_spaces     119390 non-null  int64  \n",
      " 16  total_of_special_requests       119390 non-null  int64  \n",
      " 17  hotel_City Hotel                119390 non-null  int32  \n",
      " 18  hotel_Resort Hotel              119390 non-null  int32  \n",
      " 19  arrival_date_month_April        119390 non-null  int32  \n",
      " 20  arrival_date_month_August       119390 non-null  int32  \n",
      " 21  arrival_date_month_December     119390 non-null  int32  \n",
      " 22  arrival_date_month_February     119390 non-null  int32  \n",
      " 23  arrival_date_month_January      119390 non-null  int32  \n",
      " 24  arrival_date_month_July         119390 non-null  int32  \n",
      " 25  arrival_date_month_June         119390 non-null  int32  \n",
      " 26  arrival_date_month_March        119390 non-null  int32  \n",
      " 27  arrival_date_month_May          119390 non-null  int32  \n",
      " 28  arrival_date_month_November     119390 non-null  int32  \n",
      " 29  arrival_date_month_October      119390 non-null  int32  \n",
      " 30  arrival_date_month_September    119390 non-null  int32  \n",
      " 31  meal_0                          119390 non-null  int32  \n",
      " 32  meal_1                          119390 non-null  int32  \n",
      " 33  meal_2                          119390 non-null  int32  \n",
      " 34  meal_3                          119390 non-null  int32  \n",
      " 35  market_segment_Aviation         119390 non-null  int32  \n",
      " 36  market_segment_Complementary    119390 non-null  int32  \n",
      " 37  market_segment_Corporate        119390 non-null  int32  \n",
      " 38  market_segment_Direct           119390 non-null  int32  \n",
      " 39  market_segment_Groups           119390 non-null  int32  \n",
      " 40  market_segment_Offline TA/TO    119390 non-null  int32  \n",
      " 41  market_segment_Online TA        119390 non-null  int32  \n",
      " 42  market_segment_Undefined        119390 non-null  int32  \n",
      " 43  distribution_channel_Corporate  119390 non-null  int32  \n",
      " 44  distribution_channel_Direct     119390 non-null  int32  \n",
      " 45  distribution_channel_GDS        119390 non-null  int32  \n",
      " 46  distribution_channel_TA/TO      119390 non-null  int32  \n",
      " 47  distribution_channel_Undefined  119390 non-null  int32  \n",
      " 48  reserved_room_type_A            119390 non-null  int32  \n",
      " 49  reserved_room_type_B            119390 non-null  int32  \n",
      " 50  reserved_room_type_C            119390 non-null  int32  \n",
      " 51  reserved_room_type_D            119390 non-null  int32  \n",
      " 52  reserved_room_type_E            119390 non-null  int32  \n",
      " 53  reserved_room_type_F            119390 non-null  int32  \n",
      " 54  reserved_room_type_G            119390 non-null  int32  \n",
      " 55  reserved_room_type_H            119390 non-null  int32  \n",
      " 56  reserved_room_type_L            119390 non-null  int32  \n",
      " 57  reserved_room_type_P            119390 non-null  int32  \n",
      " 58  assigned_room_type_A            119390 non-null  int32  \n",
      " 59  assigned_room_type_B            119390 non-null  int32  \n",
      " 60  assigned_room_type_C            119390 non-null  int32  \n",
      " 61  assigned_room_type_D            119390 non-null  int32  \n",
      " 62  assigned_room_type_E            119390 non-null  int32  \n",
      " 63  assigned_room_type_F            119390 non-null  int32  \n",
      " 64  assigned_room_type_G            119390 non-null  int32  \n",
      " 65  assigned_room_type_H            119390 non-null  int32  \n",
      " 66  assigned_room_type_I            119390 non-null  int32  \n",
      " 67  assigned_room_type_K            119390 non-null  int32  \n",
      " 68  assigned_room_type_L            119390 non-null  int32  \n",
      " 69  assigned_room_type_P            119390 non-null  int32  \n",
      " 70  deposit_type_No Deposit         119390 non-null  int32  \n",
      " 71  deposit_type_Non Refund         119390 non-null  int32  \n",
      " 72  deposit_type_Refundable         119390 non-null  int32  \n",
      " 73  customer_type_Contract          119390 non-null  int32  \n",
      " 74  customer_type_Group             119390 non-null  int32  \n",
      " 75  customer_type_Transient         119390 non-null  int32  \n",
      " 76  customer_type_Transient-Party   119390 non-null  int32  \n",
      "dtypes: float64(2), int32(60), int64(15)\n",
      "memory usage: 42.8 MB\n"
     ]
    }
   ],
   "source": [
    "train_features.info()"
   ]
  },
  {
   "cell_type": "markdown",
   "id": "e28f6865",
   "metadata": {},
   "source": [
    "<details><summary style=\"display:list-item; font-size:16px; color:blue;\">Hint: Select training features.</summary>\n",
    "\n",
    "```py\n",
    "# Remove target columns\n",
    "remove_cols = ['is_canceled', 'reservation_status']\n",
    "\n",
    "# Select training features\n",
    "train_features = [x for x in hotels.columns if x not in remove_cols]\n",
    "```\n",
    " \n",
    "</details>"
   ]
  },
  {
   "cell_type": "code",
   "execution_count": 187,
   "id": "007e5b02",
   "metadata": {},
   "outputs": [
    {
     "data": {
      "text/html": [
       "<div>\n",
       "<style scoped>\n",
       "    .dataframe tbody tr th:only-of-type {\n",
       "        vertical-align: middle;\n",
       "    }\n",
       "\n",
       "    .dataframe tbody tr th {\n",
       "        vertical-align: top;\n",
       "    }\n",
       "\n",
       "    .dataframe thead th {\n",
       "        text-align: right;\n",
       "    }\n",
       "</style>\n",
       "<table border=\"1\" class=\"dataframe\">\n",
       "  <thead>\n",
       "    <tr style=\"text-align: right;\">\n",
       "      <th></th>\n",
       "      <th>lead_time</th>\n",
       "      <th>arrival_date_year</th>\n",
       "      <th>arrival_date_week_number</th>\n",
       "      <th>arrival_date_day_of_month</th>\n",
       "      <th>stays_in_weekend_nights</th>\n",
       "      <th>stays_in_week_nights</th>\n",
       "      <th>adults</th>\n",
       "      <th>children</th>\n",
       "      <th>babies</th>\n",
       "      <th>is_repeated_guest</th>\n",
       "      <th>...</th>\n",
       "      <th>assigned_room_type_K</th>\n",
       "      <th>assigned_room_type_L</th>\n",
       "      <th>assigned_room_type_P</th>\n",
       "      <th>deposit_type_No Deposit</th>\n",
       "      <th>deposit_type_Non Refund</th>\n",
       "      <th>deposit_type_Refundable</th>\n",
       "      <th>customer_type_Contract</th>\n",
       "      <th>customer_type_Group</th>\n",
       "      <th>customer_type_Transient</th>\n",
       "      <th>customer_type_Transient-Party</th>\n",
       "    </tr>\n",
       "  </thead>\n",
       "  <tbody>\n",
       "    <tr>\n",
       "      <th>0</th>\n",
       "      <td>342</td>\n",
       "      <td>2015</td>\n",
       "      <td>27</td>\n",
       "      <td>1</td>\n",
       "      <td>0</td>\n",
       "      <td>0</td>\n",
       "      <td>2</td>\n",
       "      <td>0.0</td>\n",
       "      <td>0</td>\n",
       "      <td>0</td>\n",
       "      <td>...</td>\n",
       "      <td>0</td>\n",
       "      <td>0</td>\n",
       "      <td>0</td>\n",
       "      <td>1</td>\n",
       "      <td>0</td>\n",
       "      <td>0</td>\n",
       "      <td>0</td>\n",
       "      <td>0</td>\n",
       "      <td>1</td>\n",
       "      <td>0</td>\n",
       "    </tr>\n",
       "    <tr>\n",
       "      <th>1</th>\n",
       "      <td>737</td>\n",
       "      <td>2015</td>\n",
       "      <td>27</td>\n",
       "      <td>1</td>\n",
       "      <td>0</td>\n",
       "      <td>0</td>\n",
       "      <td>2</td>\n",
       "      <td>0.0</td>\n",
       "      <td>0</td>\n",
       "      <td>0</td>\n",
       "      <td>...</td>\n",
       "      <td>0</td>\n",
       "      <td>0</td>\n",
       "      <td>0</td>\n",
       "      <td>1</td>\n",
       "      <td>0</td>\n",
       "      <td>0</td>\n",
       "      <td>0</td>\n",
       "      <td>0</td>\n",
       "      <td>1</td>\n",
       "      <td>0</td>\n",
       "    </tr>\n",
       "    <tr>\n",
       "      <th>2</th>\n",
       "      <td>7</td>\n",
       "      <td>2015</td>\n",
       "      <td>27</td>\n",
       "      <td>1</td>\n",
       "      <td>0</td>\n",
       "      <td>1</td>\n",
       "      <td>1</td>\n",
       "      <td>0.0</td>\n",
       "      <td>0</td>\n",
       "      <td>0</td>\n",
       "      <td>...</td>\n",
       "      <td>0</td>\n",
       "      <td>0</td>\n",
       "      <td>0</td>\n",
       "      <td>1</td>\n",
       "      <td>0</td>\n",
       "      <td>0</td>\n",
       "      <td>0</td>\n",
       "      <td>0</td>\n",
       "      <td>1</td>\n",
       "      <td>0</td>\n",
       "    </tr>\n",
       "    <tr>\n",
       "      <th>3</th>\n",
       "      <td>13</td>\n",
       "      <td>2015</td>\n",
       "      <td>27</td>\n",
       "      <td>1</td>\n",
       "      <td>0</td>\n",
       "      <td>1</td>\n",
       "      <td>1</td>\n",
       "      <td>0.0</td>\n",
       "      <td>0</td>\n",
       "      <td>0</td>\n",
       "      <td>...</td>\n",
       "      <td>0</td>\n",
       "      <td>0</td>\n",
       "      <td>0</td>\n",
       "      <td>1</td>\n",
       "      <td>0</td>\n",
       "      <td>0</td>\n",
       "      <td>0</td>\n",
       "      <td>0</td>\n",
       "      <td>1</td>\n",
       "      <td>0</td>\n",
       "    </tr>\n",
       "    <tr>\n",
       "      <th>4</th>\n",
       "      <td>14</td>\n",
       "      <td>2015</td>\n",
       "      <td>27</td>\n",
       "      <td>1</td>\n",
       "      <td>0</td>\n",
       "      <td>2</td>\n",
       "      <td>2</td>\n",
       "      <td>0.0</td>\n",
       "      <td>0</td>\n",
       "      <td>0</td>\n",
       "      <td>...</td>\n",
       "      <td>0</td>\n",
       "      <td>0</td>\n",
       "      <td>0</td>\n",
       "      <td>1</td>\n",
       "      <td>0</td>\n",
       "      <td>0</td>\n",
       "      <td>0</td>\n",
       "      <td>0</td>\n",
       "      <td>1</td>\n",
       "      <td>0</td>\n",
       "    </tr>\n",
       "  </tbody>\n",
       "</table>\n",
       "<p>5 rows × 77 columns</p>\n",
       "</div>"
      ],
      "text/plain": [
       "   lead_time  arrival_date_year  arrival_date_week_number  \\\n",
       "0        342               2015                        27   \n",
       "1        737               2015                        27   \n",
       "2          7               2015                        27   \n",
       "3         13               2015                        27   \n",
       "4         14               2015                        27   \n",
       "\n",
       "   arrival_date_day_of_month  stays_in_weekend_nights  stays_in_week_nights  \\\n",
       "0                          1                        0                     0   \n",
       "1                          1                        0                     0   \n",
       "2                          1                        0                     1   \n",
       "3                          1                        0                     1   \n",
       "4                          1                        0                     2   \n",
       "\n",
       "   adults  children  babies  is_repeated_guest  ...  assigned_room_type_K  \\\n",
       "0       2       0.0       0                  0  ...                     0   \n",
       "1       2       0.0       0                  0  ...                     0   \n",
       "2       1       0.0       0                  0  ...                     0   \n",
       "3       1       0.0       0                  0  ...                     0   \n",
       "4       2       0.0       0                  0  ...                     0   \n",
       "\n",
       "   assigned_room_type_L  assigned_room_type_P  deposit_type_No Deposit  \\\n",
       "0                     0                     0                        1   \n",
       "1                     0                     0                        1   \n",
       "2                     0                     0                        1   \n",
       "3                     0                     0                        1   \n",
       "4                     0                     0                        1   \n",
       "\n",
       "   deposit_type_Non Refund  deposit_type_Refundable  customer_type_Contract  \\\n",
       "0                        0                        0                       0   \n",
       "1                        0                        0                       0   \n",
       "2                        0                        0                       0   \n",
       "3                        0                        0                       0   \n",
       "4                        0                        0                       0   \n",
       "\n",
       "   customer_type_Group  customer_type_Transient  customer_type_Transient-Party  \n",
       "0                    0                        1                              0  \n",
       "1                    0                        1                              0  \n",
       "2                    0                        1                              0  \n",
       "3                    0                        1                              0  \n",
       "4                    0                        1                              0  \n",
       "\n",
       "[5 rows x 77 columns]"
      ]
     },
     "execution_count": 187,
     "metadata": {},
     "output_type": "execute_result"
    }
   ],
   "source": [
    "train_features.head()"
   ]
  },
  {
   "cell_type": "markdown",
   "id": "24724a16-795e-4654-9937-ecb3bd173594",
   "metadata": {},
   "source": [
    "### Task 12\n",
    "\n",
    "Using the list of training features in `train_features`, create `X` and `y` tensors:\n",
    "\n",
    "- `X` contains the data values from the `train_features` columns\n",
    "- `y` contains the binary labels in the `is_canceled` column in `hotels`\n",
    "\n",
    "Both `X` and `y` should have the float datatype.\n",
    "\n",
    "Be sure to set the correct view of `y` using `.view(-1,1)`"
   ]
  },
  {
   "cell_type": "code",
   "execution_count": 135,
   "id": "9075979f-c19b-4586-bd71-15ea866d5e99",
   "metadata": {},
   "outputs": [],
   "source": [
    "X = torch.tensor(train_features.values, dtype = torch.float)\n",
    "y = torch.tensor(df[['is_canceled']].values, dtype = torch.float)"
   ]
  },
  {
   "cell_type": "markdown",
   "id": "32a9c018",
   "metadata": {},
   "source": [
    "<details><summary style=\"display:list-item; font-size:16px; color:blue;\">Hint: Create X and y tensors.</summary>\n",
    "\n",
    "When creating the tensors, be sure to extract the data values in the specified columns using `.values` as floats:\n",
    "    \n",
    "```py\n",
    "X = torch.tensor(hotels[train_features].values, dtype=torch.float)\n",
    "y = torch.tensor(hotels['is_canceled'].values, dtype=torch.float).view(-1,1)\n",
    "```\n",
    " \n",
    "</details>"
   ]
  },
  {
   "cell_type": "markdown",
   "id": "bf85c1dd-70b3-4c61-902d-1be92daeb39f",
   "metadata": {},
   "source": [
    "### Task 13\n",
    "\n",
    "Let's now split our data contained in `X` and `y` into training and testing sets.\n",
    "\n",
    "Import the `train_test_split` module from Scikit-learn's `sklearn.model_selection` library.\n",
    "\n",
    "Split `X` and `y` using the following scheme:\n",
    "- Use 80% of the data for the training set `X_train` and `y_train`\n",
    "- Use 20% of the data for the testing set `X_test` and `y_test`\n",
    "- Set the random state to `42` to match our solution\n",
    "\n",
    "Print out the shape of `X_train` and `X_test` to see how many observations and columns are in the training and testing sets.\n",
    "\n",
    "How many training features does our training set `X_train` have?"
   ]
  },
  {
   "cell_type": "code",
   "execution_count": 136,
   "id": "f1975f61-365d-4fb9-9106-e8af73181d68",
   "metadata": {},
   "outputs": [
    {
     "name": "stdout",
     "output_type": "stream",
     "text": [
      "torch.Size([95512, 77])\n",
      "torch.Size([23878, 77])\n"
     ]
    }
   ],
   "source": [
    "from sklearn.model_selection import train_test_split\n",
    "X_train, X_test, y_train, y_test = train_test_split(X,y, test_size=0.2, random_state=42)\n",
    "print(X_train.shape)\n",
    "print(X_test.shape)"
   ]
  },
  {
   "cell_type": "markdown",
   "id": "6c691550-b23d-4edd-8894-d429ff878ac7",
   "metadata": {},
   "source": [
    "<details><summary style=\"display:list-item; font-size:16px; color:blue;\">Hint: Split the dataset into training and testing splits.</summary>\n",
    "    \n",
    "```py\n",
    "from sklearn.model_selection import train_test_split\n",
    "\n",
    "X_train, X_test, y_train, y_test = train_test_split(X, y,\n",
    "                                                    train_size=0.80,\n",
    "                                                    test_size=0.20,\n",
    "                                                    random_state=42) \n",
    "print(\"Training Shape:\", X_train.shape)\n",
    "print(\"Testing Shape:\", X_test.shape)\n",
    "```\n",
    "It looks like our data was successfully split into 80% training and 20% testing sets. \n",
    "\n",
    "Importantly, we see that the number of columns is `65` which corresponds to the number of input nodes (or features) needed in the input layer of our neural network!"
   ]
  },
  {
   "cell_type": "markdown",
   "id": "1f19d0e5-2ba5-488b-9af0-3e5d33e06d29",
   "metadata": {},
   "source": [
    "## Task Group 4 - Train a Neural Network for Binary Classification\n",
    "\n",
    "Let's now create a neural network for binary classification to predict hotel cancellations."
   ]
  },
  {
   "cell_type": "markdown",
   "id": "0c72e761-e422-4893-ac6c-37693886f344",
   "metadata": {},
   "source": [
    "### Task 14\n",
    "\n",
    "Set a random seed to `42` using `torch.manual_seed(42)`.\n",
    "\n",
    "Build the neural network architecture using `nn.Sequential` with the following:\n",
    "- input layer with `65` nodes (equal to the number of training features)\n",
    "- first hidden layer with `36` nodes and a ReLU activation\n",
    "- second hidden layer with `18` nodes and a ReLU activation\n",
    "- output layer with `1` node and a Sigmoid activation\n",
    "\n",
    "Save the network to the variable `model`."
   ]
  },
  {
   "cell_type": "code",
   "execution_count": 137,
   "id": "be281de6-8e20-4e8b-a88b-4259db34dccf",
   "metadata": {},
   "outputs": [],
   "source": [
    "model = nn.Sequential(\n",
    "    nn.Linear(77,36),\n",
    "    nn.ReLU(),\n",
    "    nn.Linear(36,18),\n",
    "    nn.ReLU(),\n",
    "    nn.Linear(18,1),\n",
    "    nn.Sigmoid()\n",
    ")"
   ]
  },
  {
   "cell_type": "markdown",
   "id": "5399e8f4-213f-43eb-894c-aef2b030c900",
   "metadata": {},
   "source": [
    "### Task 15\n",
    "\n",
    "Next, let's define the loss function and optimizer used for training:\n",
    "- set the **binary cross-entropy** loss function to the variable `loss`\n",
    "- set the **Adam** optimizer to the variable `optimizer` with a learning rate of `0.005`"
   ]
  },
  {
   "cell_type": "code",
   "execution_count": 138,
   "id": "03ca9cbf-b5e2-423a-88b0-98c1eb51f492",
   "metadata": {},
   "outputs": [],
   "source": [
    "loss = nn.BCELoss()\n",
    "optimizer = optim.Adam(model.parameters(), lr= 0.005)"
   ]
  },
  {
   "cell_type": "markdown",
   "id": "2b596b59-7ae9-4dcd-9f71-11bf324be1f8",
   "metadata": {},
   "source": [
    "### Task 16\n",
    "\n",
    "Let's build the training loop to train our neural network.\n",
    "\n",
    "Train the neural network for `1000` epochs.\n",
    "\n",
    "Keep track of the training performance by printing out the binary cross-entropy loss and accuracy score every `100` epochs.\n",
    "\n",
    "Before calculating accuracy, convert the model's predicted probabilities to binary labels (as integers) using `0.5` as the threshold."
   ]
  },
  {
   "cell_type": "code",
   "execution_count": 139,
   "id": "fd399ffc",
   "metadata": {},
   "outputs": [],
   "source": [
    "from sklearn.metrics import accuracy_score"
   ]
  },
  {
   "cell_type": "code",
   "execution_count": 140,
   "id": "428aeaf3-6952-4050-9a5c-e4f9e6ff794c",
   "metadata": {},
   "outputs": [
    {
     "name": "stdout",
     "output_type": "stream",
     "text": [
      "epoch number = 100, accuracy = 0.724128905268448, loss = 0.5556249022483826 \n",
      "epoch number = 200, accuracy = 0.770081246335539, loss = 0.4975144565105438 \n",
      "epoch number = 300, accuracy = 0.7743320211072954, loss = 0.48603591322898865 \n",
      "epoch number = 400, accuracy = 0.7870843454225647, loss = 0.4516979157924652 \n",
      "epoch number = 500, accuracy = 0.793858363347014, loss = 0.45300573110580444 \n",
      "epoch number = 600, accuracy = 0.8084638579445514, loss = 0.4278019368648529 \n",
      "epoch number = 700, accuracy = 0.8072074713125053, loss = 0.4314311444759369 \n",
      "epoch number = 800, accuracy = 0.8092805092553815, loss = 0.4298108220100403 \n",
      "epoch number = 900, accuracy = 0.8138139710193484, loss = 0.42679882049560547 \n",
      "epoch number = 1000, accuracy = 0.8147667308819834, loss = 0.42440131306648254 \n"
     ]
    }
   ],
   "source": [
    "epoch = 1000 \n",
    "for i in range(1,epoch+1):\n",
    "    probability = model(X_train)\n",
    "    BCEloss = loss(probability, y_train)\n",
    "    BCEloss.backward()\n",
    "    optimizer.step()\n",
    "    optimizer.zero_grad()\n",
    "\n",
    "    if i%100 ==0:\n",
    "        pred1_0 = (probability>=0.5).int()\n",
    "        accuracy = accuracy_score(pred1_0, y_train)\n",
    "\n",
    "        print(f\"epoch number = {i}, accuracy = {accuracy}, loss = {BCEloss} \")\n",
    "        "
   ]
  },
  {
   "cell_type": "markdown",
   "id": "5f27afb4",
   "metadata": {},
   "source": [
    "<details><summary style=\"display:list-item; font-size:16px; color:blue;\">Hint: Keep track of the training loss and accuracy.</summary>\n",
    "\n",
    "    \n",
    "Here's how to print the accuracy and BCE loss every 100 epochs during training:\n",
    "    \n",
    "```py\n",
    "if (epoch + 1) % 100 == 0:\n",
    "        predicted_labels = (predictions >= 0.5).int()\n",
    "        accuracy = accuracy_score(y_train, predicted_labels)\n",
    "        print(f'Epoch [{epoch+1}/{num_epochs}], BCELoss: {BCELoss.item():.4f}, Accuracy: {accuracy.item():.4f}')\n",
    "```"
   ]
  },
  {
   "cell_type": "markdown",
   "id": "42ec35a0-5096-4000-9a7b-f1724a2ef946",
   "metadata": {},
   "source": [
    "### Task 17\n",
    "\n",
    "Let's evaluate the trained neural network on the testing set:\n",
    "\n",
    "1. Set the model to **evaluation mode**\n",
    "2. Turn off gradient calculations\n",
    "3. Generate predicted probabilities on `X_test`. Save the probabilities to the variable `test_predictions`.\n",
    "4. Convert the predicted probabilities to binary labels using `0.5` as the threshold. Save the labels to the variable `test_predicted_labels`."
   ]
  },
  {
   "cell_type": "code",
   "execution_count": 102,
   "id": "70ee1ac3-d63c-4a97-bbbd-2a0a7e502d10",
   "metadata": {},
   "outputs": [],
   "source": [
    "model.eval()\n",
    "with torch.no_grad():\n",
    "    preds_test = model(X_test)\n",
    "    preds1_0_test = (preds_test>=0.5).int()\n",
    "    "
   ]
  },
  {
   "cell_type": "markdown",
   "id": "e2f37de0-6e5c-4716-ad10-37ced7a86621",
   "metadata": {},
   "source": [
    "### Task 18\n",
    "\n",
    "Recall that the number of cancellations is much lower than the number of non-cancellations (27.8% canceled vs 72.2% did not cancel). \n",
    "\n",
    "To evaluate our neural network effectively, compute the accuracy, precision, recall, and F1 scores using the `sklearn.metrics` module:\n",
    "\n",
    "- use the `accuracy_score` function to compute the overall accuracy\n",
    "- use the `classification_report` function to compute the precision, recall, and F1 scores\n",
    "\n",
    "Print out the accuracy and classification report."
   ]
  },
  {
   "cell_type": "code",
   "execution_count": 104,
   "id": "434e5601-8cee-430a-b47b-95ce604c50b9",
   "metadata": {},
   "outputs": [
    {
     "name": "stdout",
     "output_type": "stream",
     "text": [
      "accuracy =  0.8123377167266941\n",
      "precision =  0.634377438412663\n",
      "recall =  0.634377438412663\n",
      "f1 =  0.7175187543339847\n"
     ]
    }
   ],
   "source": [
    "from sklearn.metrics import precision_score, recall_score, f1_score\n",
    "\n",
    "accuracy_test = accuracy_score(preds1_0_test, y_test)\n",
    "precision_test = precision_score(preds1_0_test, y_test)\n",
    "recall_test = precision_score(preds1_0_test, y_test)\n",
    "f1_test = f1_score(preds1_0_test, y_test)\n",
    "\n",
    "print(\"accuracy = \", accuracy_test)\n",
    "print(\"precision = \", precision_test)\n",
    "print(\"recall = \", recall_test)\n",
    "print(\"f1 = \", f1_test)"
   ]
  },
  {
   "cell_type": "markdown",
   "id": "4f7e573f-daa9-4918-9228-36e2e06ca16d",
   "metadata": {},
   "source": [
    "Overall, the model seems to perform reasonably well at predicting hotel cancellations!\n",
    "\n",
    "The model has an overall accuracy of 83.7%, indicating that 83.7% of our model's predictions are correct.\n",
    "The precision score tells us that when our model predicts a cancellation, it is correct ~72% of the time.\n",
    "The recall score tells us that our model captures about 68% of the actual cancellations in our data. \n",
    "\n",
    "In future research, we could improve the model by performing a more in-depth analysis of the features and doing a more robust feature selection process (like gathering more features or dropping less useful features). \n",
    "\n",
    "Furthermore, we could modify the neural network architecture by changing the number of nodes across the hidden layers, trying out different activation functions and optimizers, adding more hidden layers, or training on additional epochs."
   ]
  },
  {
   "cell_type": "markdown",
   "id": "bef7b3ad-9e0d-4ae3-8de8-e20d29c82420",
   "metadata": {},
   "source": [
    "## Task Group 5 - Train a Neural Network for Multiclass Classification\n",
    "\n",
    "Let's now extend our binary classification task to multiclass by attempting to also predict customers who **no-showed** within the `reservation_status` column.\n",
    "\n",
    "If a hotel can accurately predict no-shows, they can reach out ahead of time to customers who are at high risk of not-showing to their reservation."
   ]
  },
  {
   "cell_type": "markdown",
   "id": "e56d798e-d97c-400f-b761-54a02b27c6ad",
   "metadata": {},
   "source": [
    "### Task 19\n",
    "\n",
    "First, let's label encode the three categories in the `reservation_status` column:\n",
    "- **Check-Out** to `2`\n",
    "- **Canceled** to `1`\n",
    "- **No-Show** to `0`"
   ]
  },
  {
   "cell_type": "code",
   "execution_count": 195,
   "id": "ecdc3405",
   "metadata": {},
   "outputs": [
    {
     "data": {
      "text/plain": [
       "array([2, 1, 0], dtype=int64)"
      ]
     },
     "execution_count": 195,
     "metadata": {},
     "output_type": "execute_result"
    }
   ],
   "source": [
    "df['reservation_status'].unique()"
   ]
  },
  {
   "cell_type": "code",
   "execution_count": 189,
   "id": "af57a73b-b3df-4574-a376-1ba9fddfcf16",
   "metadata": {},
   "outputs": [
    {
     "name": "stderr",
     "output_type": "stream",
     "text": [
      "C:\\Users\\anush\\AppData\\Local\\Temp\\ipykernel_2420\\794582611.py:1: FutureWarning: Downcasting behavior in `replace` is deprecated and will be removed in a future version. To retain the old behavior, explicitly call `result.infer_objects(copy=False)`. To opt-in to the future behavior, set `pd.set_option('future.no_silent_downcasting', True)`\n",
      "  df['reservation_status'] = df['reservation_status'].replace({'Check-Out':2,'Canceled':1,'No-Show':0})\n"
     ]
    }
   ],
   "source": [
    "df['reservation_status'] = df['reservation_status'].replace({'Check-Out':2,'Canceled':1,'No-Show':0})"
   ]
  },
  {
   "cell_type": "markdown",
   "id": "776ce78d-5f2c-4fa0-b513-50c79d60e143",
   "metadata": {},
   "source": [
    "### Task 20\n",
    "\n",
    "Using the same list of training features in `train_features`, create the `X` and `y` tensors where:\n",
    "\n",
    "- `X` contains the data values from the `train_features` columns\n",
    "- `y` contains the multiclass data values in the `reservation_status` column\n",
    "\n",
    "Make sure that `y` uses the `long` datatype."
   ]
  },
  {
   "cell_type": "code",
   "execution_count": 196,
   "id": "095aba89-a375-4581-aafe-5cbaa26e81d3",
   "metadata": {},
   "outputs": [],
   "source": [
    "X = torch.tensor(train_features.values, dtype = torch.float)\n",
    "y = torch.tensor(df['reservation_status'].values, dtype = torch.long)"
   ]
  },
  {
   "cell_type": "markdown",
   "id": "4c19514e",
   "metadata": {},
   "source": [
    "<details><summary style=\"display:list-item; font-size:16px; color:blue;\">Hint: Create X and y tensors.</summary>\n",
    "\n",
    "When creating the tensors, be sure to extract the data values in the specified columns using `.values`:\n",
    "    \n",
    "```py\n",
    "X = torch.tensor(hotels[train_features].values, dtype=torch.float)\n",
    "y = torch.tensor(hotels['reservation_status'].values, dtype=torch.long)\n",
    "```\n",
    " \n",
    "</details>"
   ]
  },
  {
   "cell_type": "markdown",
   "id": "5abbd301-7464-4fbf-abcd-2aaa03478cd9",
   "metadata": {},
   "source": [
    "### Task 21\n",
    "\n",
    "Similar to before, split the `X` and `y` tensors into training and testing splits using the following scheme:\n",
    "- Use 80% of the data for the training set `X_train` and `y_train`\n",
    "- Use 20% of the data for the testing set `X_test` and `y_test`\n",
    "- Set the random state to `42`"
   ]
  },
  {
   "cell_type": "code",
   "execution_count": 197,
   "id": "6f9b53ad-8f96-4f25-9253-97020bfcbec3",
   "metadata": {},
   "outputs": [
    {
     "name": "stdout",
     "output_type": "stream",
     "text": [
      "torch.Size([95512, 77])\n",
      "torch.Size([23878, 77])\n"
     ]
    }
   ],
   "source": [
    "from sklearn.model_selection import train_test_split\n",
    "X_train, X_test, y_train, y_test = train_test_split(X,y, test_size=0.2, random_state=42)\n",
    "print(X_train.shape)\n",
    "print(X_test.shape)"
   ]
  },
  {
   "cell_type": "markdown",
   "id": "6c1a2fdb",
   "metadata": {},
   "source": [
    "<details><summary style=\"display:list-item; font-size:16px; color:blue;\">Hint: Split the dataset into training and testing splits.</summary>\n",
    "    \n",
    "```py\n",
    "from sklearn.model_selection import train_test_split\n",
    "\n",
    "X_train, X_test, y_train, y_test = train_test_split(X, y,\n",
    "                                                    train_size=0.80,\n",
    "                                                    test_size=0.20,\n",
    "                                                    random_state=42) \n",
    "print(\"Training Shape:\", X_train.shape)\n",
    "print(\"Testing Shape:\", X_test.shape)\n",
    "```\n",
    "It looks like our data was successfully split into 80% training and 20% testing sets. \n",
    "\n",
    "Importantly, we see that the number of columns is `65` which corresponds to the number of input nodes (or features) needed in the input layer of our neural network!"
   ]
  },
  {
   "cell_type": "markdown",
   "id": "746d568e-1964-4885-b911-e5b07a337a84",
   "metadata": {},
   "source": [
    "### Task 22\n",
    "\n",
    "Set a random seed using `torch.manual_seed(42)`.\n",
    "\n",
    "Next, let's construct the multiclass neural network with the following architecture:\n",
    "\n",
    "- input layer with `65` nodes (equal to the number of training features)\n",
    "- first hidden layer with `65` nodes and a ReLU activation\n",
    "- second hidden layer with `36` nodes and a ReLU activation\n",
    "- final output layer with `3` nodes corresponding to each of the categories in `reservation_status`\n",
    "\n",
    "Save the network to the variable `multiclass_model`."
   ]
  },
  {
   "cell_type": "code",
   "execution_count": 198,
   "id": "30bcdce8-a0f6-4b42-8e39-14f4514183d5",
   "metadata": {},
   "outputs": [],
   "source": [
    "multiclass_model = nn.Sequential(\n",
    "    nn.Linear(77,65),\n",
    "    nn.ReLU(),\n",
    "    nn.Linear(65,36),\n",
    "    nn.ReLU(),\n",
    "    nn.Linear(36,3)\n",
    ")"
   ]
  },
  {
   "cell_type": "markdown",
   "id": "da66f270-3ff1-46ae-afb3-bf56f8c48231",
   "metadata": {},
   "source": [
    "### Task 23\n",
    "\n",
    "Next, let's define the loss function and optimizer used for multiclass training:\n",
    "- set the **cross-entropy** loss function for multiclass to the variable `loss`\n",
    "- set the **Adam** optimizer to the variable `optimizer` with a learning rate of `0.01`"
   ]
  },
  {
   "cell_type": "code",
   "execution_count": 199,
   "id": "054e5888-c5b3-4708-b4d5-a253d503f86b",
   "metadata": {},
   "outputs": [],
   "source": [
    "loss = nn.CrossEntropyLoss()\n",
    "optimizer = optim.Adam(multiclass_model.parameters(), lr = 0.01)"
   ]
  },
  {
   "cell_type": "markdown",
   "id": "2cd8d1c8-a815-4371-b905-1696ac3f5faf",
   "metadata": {},
   "source": [
    "### Task 24\n",
    "\n",
    "Let's build the training loop to train our neural network.\n",
    "\n",
    "1. Train the neural network for `500` epochs.\n",
    "2. Keep track of the training performance by printing out the cross-entropy loss and accuracy score every `100` epochs.\n",
    "3. Be sure to convert the output probabilites of the multiclass model to labels using the `torch.argmax()` function."
   ]
  },
  {
   "cell_type": "code",
   "execution_count": 201,
   "id": "c24d74fd-c2fd-4287-a251-403c5e3ed04d",
   "metadata": {},
   "outputs": [
    {
     "name": "stdout",
     "output_type": "stream",
     "text": [
      "epoch number = 100, accuracy = 0.8007, loss = 0.4753957986831665\n",
      "epoch number = 200, accuracy = 0.8131, loss = 0.4552313983440399\n",
      "epoch number = 300, accuracy = 0.7988, loss = 0.4728319048881531\n",
      "epoch number = 400, accuracy = 0.8091, loss = 0.4515247046947479\n",
      "epoch number = 500, accuracy = 0.7754, loss = 0.47718796133995056\n"
     ]
    }
   ],
   "source": [
    "epochs = 500\n",
    "for i in range(1,epochs+1):\n",
    "    preds = multiclass_model(X_train)\n",
    "    cem_loss = loss(preds, y_train)\n",
    "    cem_loss.backward()\n",
    "    optimizer.step()\n",
    "    optimizer.zero_grad()\n",
    "\n",
    "    if i%100 == 0:\n",
    "        pred_labels = torch.argmax(preds, dim=1)\n",
    "        accuracy = accuracy_score(pred_labels, y_train)\n",
    "        print(f\"epoch number = {i}, accuracy = {accuracy:0.4f}, loss = {cem_loss}\")"
   ]
  },
  {
   "cell_type": "markdown",
   "id": "836b08b1",
   "metadata": {},
   "source": [
    "<details><summary style=\"display:list-item; font-size:16px; color:blue;\">Hint: Keep track of the multiclass training loss and accuracy.</summary>\n",
    "\n",
    "    \n",
    "Here's how to print the accuracy and BCE loss every 100 epochs during training:\n",
    "    \n",
    "```py\n",
    "if (epoch + 1) % 100 == 0:\n",
    "        predicted_labels = torch.argmax(predictions, dim=1)\n",
    "        accuracy = accuracy_score(y_train, predicted_labels)\n",
    "        print(f'Epoch [{epoch+1}/{num_epochs}], CELoss: {CELoss.item():.4f}, Accuracy: {accuracy.item():.4f}')\n",
    "```"
   ]
  },
  {
   "cell_type": "markdown",
   "id": "50586271-905d-4229-8a00-611528153b28",
   "metadata": {},
   "source": [
    "### Task 25\n",
    "\n",
    "Let's evaluate the trained neural network on the testing set:\n",
    "\n",
    "1. Set the multiclass model to **evaluation mode**\n",
    "2. Turn off gradient calculations\n",
    "3. Generate predicted probabilities on `X_test`. Save the predicted probabilities to the variable `multiclass_predictions`.\n",
    "4. Select the class with the largest predicted probability using the `torch.argmax()` function. Save the predicted classes to the variable `multiclass_predicted_labels`."
   ]
  },
  {
   "cell_type": "code",
   "execution_count": 203,
   "id": "78105af4",
   "metadata": {},
   "outputs": [],
   "source": [
    "from sklearn.metrics import classification_report"
   ]
  },
  {
   "cell_type": "code",
   "execution_count": 204,
   "id": "92def2d2-e470-40d1-a938-22c6b83f727d",
   "metadata": {},
   "outputs": [
    {
     "name": "stderr",
     "output_type": "stream",
     "text": [
      "c:\\Users\\anush\\AppData\\Local\\Programs\\Python\\Python312\\Lib\\site-packages\\sklearn\\metrics\\_classification.py:1509: UndefinedMetricWarning: Precision is ill-defined and being set to 0.0 in labels with no predicted samples. Use `zero_division` parameter to control this behavior.\n",
      "  _warn_prf(average, modifier, f\"{metric.capitalize()} is\", len(result))\n",
      "c:\\Users\\anush\\AppData\\Local\\Programs\\Python\\Python312\\Lib\\site-packages\\sklearn\\metrics\\_classification.py:1509: UndefinedMetricWarning: Precision is ill-defined and being set to 0.0 in labels with no predicted samples. Use `zero_division` parameter to control this behavior.\n",
      "  _warn_prf(average, modifier, f\"{metric.capitalize()} is\", len(result))\n",
      "c:\\Users\\anush\\AppData\\Local\\Programs\\Python\\Python312\\Lib\\site-packages\\sklearn\\metrics\\_classification.py:1509: UndefinedMetricWarning: Precision is ill-defined and being set to 0.0 in labels with no predicted samples. Use `zero_division` parameter to control this behavior.\n",
      "  _warn_prf(average, modifier, f\"{metric.capitalize()} is\", len(result))\n"
     ]
    }
   ],
   "source": [
    "multiclass_model.eval()\n",
    "with torch.no_grad():\n",
    "    preds = multiclass_model(X_test)\n",
    "    pred_label = torch.argmax(preds, dim=1)\n",
    "    accuracy = accuracy_score(pred_label, y_test)\n",
    "    report = classification_report(y_test, pred_label)\n"
   ]
  },
  {
   "cell_type": "markdown",
   "id": "e9892547-fea8-4d44-988d-2b1aca8b6b24",
   "metadata": {},
   "source": [
    "### Task 26\n",
    "\n",
    "Lastly, let's evaluate the multiclass neural network by calculating the overall accuracy, precision, recall, and F1 scores.\n",
    "\n",
    "Using the `sklearn.metrics` module:\n",
    "- use the `accuracy_score` function to compute and save the overall accuracy to the variable `multiclass_accuracy`\n",
    "- use the `classification_report` function to compute and save the classification metrics for each class to the variable `multiclass_report`\n",
    "\n",
    "Print the overall accuracy and classification report for our multiclass model."
   ]
  },
  {
   "cell_type": "code",
   "execution_count": 206,
   "id": "79d96267-d4ab-49fc-be8e-3175cc7a5b9b",
   "metadata": {},
   "outputs": [
    {
     "name": "stdout",
     "output_type": "stream",
     "text": [
      "accuracy = 0.7787084345422565\n",
      "              precision    recall  f1-score   support\n",
      "\n",
      "           0       0.00      0.00      0.00       234\n",
      "           1       0.98      0.43      0.60      8737\n",
      "           2       0.74      0.99      0.85     14907\n",
      "\n",
      "    accuracy                           0.78     23878\n",
      "   macro avg       0.57      0.48      0.48     23878\n",
      "weighted avg       0.82      0.78      0.75     23878\n",
      "\n"
     ]
    }
   ],
   "source": [
    "print(f\"accuracy = {accuracy}\")\n",
    "print(report)"
   ]
  },
  {
   "cell_type": "markdown",
   "id": "7a78ab2c-650c-422f-876f-33e150d8b00c",
   "metadata": {},
   "source": [
    "Our multiclass neural network performs similarly to the binary classification network at predicting cancellations.\n",
    "\n",
    "It has an overall accuracy of 84%, meaning that 84% of all the predictions were correct.\n",
    "The precision in row `1` tells us that when our model predicts a cancellation, it is correct 72% of the time. \n",
    "The recall score in row `1` tells us that our model captures 68% of the actual cancellations in our data.\n",
    "\n",
    "Unfortunately, the model doesn't do the best job of predicting whether or not the customer will no-show. \n",
    "\n",
    "For no-shows (row class `0`), the precision score tells us that when our model predicts a no-show it is correct 86% of the time which is surprising well.\n",
    "However, the low recall score tells us that our model only captures 11% of actual no-shows which is not very good. The lower recall score brings the F1 score down to 27% which indicates a not-so-great balance between precision and recall. This means that the model doesn't predict many no-shows and will most likely not be able to capture most customers who no-show in real-life. \n",
    "\n",
    "If our goal is to be able to reach out to potential no-shows, the low recall score is concerning. However, this all may be due to the low number of no-shows in the dataset: it is much harder for our model to find patterns predicting a no-show without more data. However, unlike the binary model, the multiclass does make an attempt to classify no-shows while still being able to predict cancellations ahead of time with similar performance.\n",
    "\n",
    "So that's the end of our project on predicting hotel cancellations using real-world data! \n",
    "In future research, we could improve the model by performing a more in-depth analysis of the features and doing a more robust feature selection process. Some examples might include collecting weather data at the time of each booking, reservations made on major holidays, economic conditions, or even global pandemics and health concerns.\n",
    "\n",
    "Furthermore, we could also try to improve performance by modifying the neural network architecture like changing the number of nodes across the hidden layers, trying out different activation functions and optimizers, adding more hidden layers, or training on additional epochs, etc."
   ]
  },
  {
   "cell_type": "code",
   "execution_count": null,
   "id": "54886cb0",
   "metadata": {},
   "outputs": [],
   "source": []
  }
 ],
 "metadata": {
  "kernelspec": {
   "display_name": "Python 3 (ipykernel)",
   "language": "python",
   "name": "python3"
  },
  "language_info": {
   "codemirror_mode": {
    "name": "ipython",
    "version": 3
   },
   "file_extension": ".py",
   "mimetype": "text/x-python",
   "name": "python",
   "nbconvert_exporter": "python",
   "pygments_lexer": "ipython3",
   "version": "3.12.3"
  }
 },
 "nbformat": 4,
 "nbformat_minor": 5
}
